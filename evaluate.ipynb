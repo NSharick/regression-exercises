{
 "cells": [
  {
   "cell_type": "markdown",
   "id": "e3cdde77",
   "metadata": {},
   "source": [
    "## Evaluating Regression Models Exercises"
   ]
  },
  {
   "cell_type": "code",
   "execution_count": 1,
   "id": "eeb05ef7",
   "metadata": {},
   "outputs": [],
   "source": [
    "import numpy as np\n",
    "import pandas as pd\n",
    "import matplotlib.pyplot as plt\n",
    "import seaborn as sns\n",
    "import scipy.stats as stats\n",
    "\n",
    "import warnings\n",
    "warnings.filterwarnings('ignore')\n",
    "\n",
    "from sklearn.linear_model import LinearRegression\n",
    "from pydataset import data\n",
    "from sklearn.metrics import mean_squared_error, r2_score\n",
    "from math import sqrt\n",
    "from sklearn.model_selection import train_test_split\n",
    "\n",
    "from evaluate import lr_model_with_residuals\n",
    "from evaluate import plot_residuals\n",
    "from evaluate import regression_errors\n",
    "from evaluate import baseline_mean_errors\n",
    "from evaluate import better_than_baseline"
   ]
  },
  {
   "cell_type": "markdown",
   "id": "9e9738f8",
   "metadata": {},
   "source": [
    "#### Acquire and Split the Data"
   ]
  },
  {
   "cell_type": "code",
   "execution_count": 2,
   "id": "25c29726",
   "metadata": {},
   "outputs": [
    {
     "data": {
      "text/html": [
       "<div>\n",
       "<style scoped>\n",
       "    .dataframe tbody tr th:only-of-type {\n",
       "        vertical-align: middle;\n",
       "    }\n",
       "\n",
       "    .dataframe tbody tr th {\n",
       "        vertical-align: top;\n",
       "    }\n",
       "\n",
       "    .dataframe thead th {\n",
       "        text-align: right;\n",
       "    }\n",
       "</style>\n",
       "<table border=\"1\" class=\"dataframe\">\n",
       "  <thead>\n",
       "    <tr style=\"text-align: right;\">\n",
       "      <th></th>\n",
       "      <th>total_bill</th>\n",
       "      <th>tip</th>\n",
       "      <th>sex</th>\n",
       "      <th>smoker</th>\n",
       "      <th>day</th>\n",
       "      <th>time</th>\n",
       "      <th>size</th>\n",
       "    </tr>\n",
       "  </thead>\n",
       "  <tbody>\n",
       "    <tr>\n",
       "      <th>1</th>\n",
       "      <td>16.99</td>\n",
       "      <td>1.01</td>\n",
       "      <td>Female</td>\n",
       "      <td>No</td>\n",
       "      <td>Sun</td>\n",
       "      <td>Dinner</td>\n",
       "      <td>2</td>\n",
       "    </tr>\n",
       "    <tr>\n",
       "      <th>2</th>\n",
       "      <td>10.34</td>\n",
       "      <td>1.66</td>\n",
       "      <td>Male</td>\n",
       "      <td>No</td>\n",
       "      <td>Sun</td>\n",
       "      <td>Dinner</td>\n",
       "      <td>3</td>\n",
       "    </tr>\n",
       "    <tr>\n",
       "      <th>3</th>\n",
       "      <td>21.01</td>\n",
       "      <td>3.50</td>\n",
       "      <td>Male</td>\n",
       "      <td>No</td>\n",
       "      <td>Sun</td>\n",
       "      <td>Dinner</td>\n",
       "      <td>3</td>\n",
       "    </tr>\n",
       "    <tr>\n",
       "      <th>4</th>\n",
       "      <td>23.68</td>\n",
       "      <td>3.31</td>\n",
       "      <td>Male</td>\n",
       "      <td>No</td>\n",
       "      <td>Sun</td>\n",
       "      <td>Dinner</td>\n",
       "      <td>2</td>\n",
       "    </tr>\n",
       "    <tr>\n",
       "      <th>5</th>\n",
       "      <td>24.59</td>\n",
       "      <td>3.61</td>\n",
       "      <td>Female</td>\n",
       "      <td>No</td>\n",
       "      <td>Sun</td>\n",
       "      <td>Dinner</td>\n",
       "      <td>4</td>\n",
       "    </tr>\n",
       "  </tbody>\n",
       "</table>\n",
       "</div>"
      ],
      "text/plain": [
       "   total_bill   tip     sex smoker  day    time  size\n",
       "1       16.99  1.01  Female     No  Sun  Dinner     2\n",
       "2       10.34  1.66    Male     No  Sun  Dinner     3\n",
       "3       21.01  3.50    Male     No  Sun  Dinner     3\n",
       "4       23.68  3.31    Male     No  Sun  Dinner     2\n",
       "5       24.59  3.61  Female     No  Sun  Dinner     4"
      ]
     },
     "execution_count": 2,
     "metadata": {},
     "output_type": "execute_result"
    }
   ],
   "source": [
    "df = data('tips')\n",
    "df.head()"
   ]
  },
  {
   "cell_type": "code",
   "execution_count": 3,
   "id": "b0b369ae",
   "metadata": {},
   "outputs": [
    {
     "data": {
      "text/plain": [
       "((136, 7), (59, 7), (49, 7))"
      ]
     },
     "execution_count": 3,
     "metadata": {},
     "output_type": "execute_result"
    }
   ],
   "source": [
    "train_val, test = train_test_split(df, train_size = 0.8, random_state=123)\n",
    "train, validate = train_test_split(train_val, train_size = 0.7, random_state=123)\n",
    "train.shape, validate.shape, test.shape"
   ]
  },
  {
   "cell_type": "markdown",
   "id": "24faabe1",
   "metadata": {},
   "source": [
    "---"
   ]
  },
  {
   "cell_type": "markdown",
   "id": "cc4f1792",
   "metadata": {},
   "source": [
    "#### Explore the data and write code for functions"
   ]
  },
  {
   "cell_type": "code",
   "execution_count": 4,
   "id": "e384b537",
   "metadata": {},
   "outputs": [
    {
     "data": {
      "text/html": [
       "<div>\n",
       "<style scoped>\n",
       "    .dataframe tbody tr th:only-of-type {\n",
       "        vertical-align: middle;\n",
       "    }\n",
       "\n",
       "    .dataframe tbody tr th {\n",
       "        vertical-align: top;\n",
       "    }\n",
       "\n",
       "    .dataframe thead th {\n",
       "        text-align: right;\n",
       "    }\n",
       "</style>\n",
       "<table border=\"1\" class=\"dataframe\">\n",
       "  <thead>\n",
       "    <tr style=\"text-align: right;\">\n",
       "      <th></th>\n",
       "      <th>total_bill</th>\n",
       "      <th>tip</th>\n",
       "    </tr>\n",
       "  </thead>\n",
       "  <tbody>\n",
       "    <tr>\n",
       "      <th>19</th>\n",
       "      <td>16.97</td>\n",
       "      <td>3.50</td>\n",
       "    </tr>\n",
       "    <tr>\n",
       "      <th>173</th>\n",
       "      <td>7.25</td>\n",
       "      <td>5.15</td>\n",
       "    </tr>\n",
       "    <tr>\n",
       "      <th>119</th>\n",
       "      <td>12.43</td>\n",
       "      <td>1.80</td>\n",
       "    </tr>\n",
       "    <tr>\n",
       "      <th>29</th>\n",
       "      <td>21.70</td>\n",
       "      <td>4.30</td>\n",
       "    </tr>\n",
       "    <tr>\n",
       "      <th>238</th>\n",
       "      <td>32.83</td>\n",
       "      <td>1.17</td>\n",
       "    </tr>\n",
       "  </tbody>\n",
       "</table>\n",
       "</div>"
      ],
      "text/plain": [
       "     total_bill   tip\n",
       "19        16.97  3.50\n",
       "173        7.25  5.15\n",
       "119       12.43  1.80\n",
       "29        21.70  4.30\n",
       "238       32.83  1.17"
      ]
     },
     "execution_count": 4,
     "metadata": {},
     "output_type": "execute_result"
    }
   ],
   "source": [
    "train = train[['total_bill', 'tip']]\n",
    "train.head()"
   ]
  },
  {
   "cell_type": "code",
   "execution_count": 5,
   "id": "7fa9f44b",
   "metadata": {},
   "outputs": [
    {
     "data": {
      "image/png": "[encoded data removed]",
      "text/plain": [
       "<Figure size 432x288 with 1 Axes>"
      ]
     },
     "metadata": {
      "needs_background": "light"
     },
     "output_type": "display_data"
    }
   ],
   "source": [
    "plt.scatter(train.total_bill, train.tip)\n",
    "plt.ylabel('tip')\n",
    "plt.xlabel('total bill')\n",
    "plt.show()"
   ]
  },
  {
   "cell_type": "code",
   "execution_count": 6,
   "id": "c57edee2",
   "metadata": {},
   "outputs": [
    {
     "data": {
      "text/plain": [
       "2.9469852941176478"
      ]
     },
     "execution_count": 6,
     "metadata": {},
     "output_type": "execute_result"
    }
   ],
   "source": [
    "baseline = train.tip.mean()\n",
    "baseline"
   ]
  },
  {
   "cell_type": "code",
   "execution_count": 7,
   "id": "f95e19c9",
   "metadata": {},
   "outputs": [
    {
     "data": {
      "image/png": "[encoded data removed]",
      "text/plain": [
       "<Figure size 432x288 with 1 Axes>"
      ]
     },
     "metadata": {
      "needs_background": "light"
     },
     "output_type": "display_data"
    }
   ],
   "source": [
    "plt.scatter(train.total_bill, train.tip)\n",
    "plt.axhline(baseline, ls=':')\n",
    "plt.ylabel('tip')\n",
    "plt.xlabel('total bill')\n",
    "plt.show()"
   ]
  },
  {
   "cell_type": "code",
   "execution_count": 8,
   "id": "a9a83331",
   "metadata": {},
   "outputs": [],
   "source": [
    "lr = LinearRegression(normalize=True)"
   ]
  },
  {
   "cell_type": "code",
   "execution_count": 9,
   "id": "cd70830c",
   "metadata": {},
   "outputs": [
    {
     "data": {
      "text/plain": [
       "LinearRegression(normalize=True)"
      ]
     },
     "execution_count": 9,
     "metadata": {},
     "output_type": "execute_result"
    }
   ],
   "source": [
    "lr.fit(train[['total_bill']], train.tip)"
   ]
  },
  {
   "cell_type": "code",
   "execution_count": 10,
   "id": "e09092dc",
   "metadata": {},
   "outputs": [],
   "source": [
    "train['yhat'] = lr.predict(train[['total_bill']])"
   ]
  },
  {
   "cell_type": "code",
   "execution_count": 11,
   "id": "abee508e",
   "metadata": {},
   "outputs": [
    {
     "data": {
      "text/html": [
       "<div>\n",
       "<style scoped>\n",
       "    .dataframe tbody tr th:only-of-type {\n",
       "        vertical-align: middle;\n",
       "    }\n",
       "\n",
       "    .dataframe tbody tr th {\n",
       "        vertical-align: top;\n",
       "    }\n",
       "\n",
       "    .dataframe thead th {\n",
       "        text-align: right;\n",
       "    }\n",
       "</style>\n",
       "<table border=\"1\" class=\"dataframe\">\n",
       "  <thead>\n",
       "    <tr style=\"text-align: right;\">\n",
       "      <th></th>\n",
       "      <th>total_bill</th>\n",
       "      <th>tip</th>\n",
       "      <th>yhat</th>\n",
       "    </tr>\n",
       "  </thead>\n",
       "  <tbody>\n",
       "    <tr>\n",
       "      <th>19</th>\n",
       "      <td>16.97</td>\n",
       "      <td>3.50</td>\n",
       "      <td>2.741254</td>\n",
       "    </tr>\n",
       "    <tr>\n",
       "      <th>173</th>\n",
       "      <td>7.25</td>\n",
       "      <td>5.15</td>\n",
       "      <td>1.642824</td>\n",
       "    </tr>\n",
       "    <tr>\n",
       "      <th>119</th>\n",
       "      <td>12.43</td>\n",
       "      <td>1.80</td>\n",
       "      <td>2.228201</td>\n",
       "    </tr>\n",
       "    <tr>\n",
       "      <th>29</th>\n",
       "      <td>21.70</td>\n",
       "      <td>4.30</td>\n",
       "      <td>3.275778</td>\n",
       "    </tr>\n",
       "    <tr>\n",
       "      <th>238</th>\n",
       "      <td>32.83</td>\n",
       "      <td>1.17</td>\n",
       "      <td>4.533548</td>\n",
       "    </tr>\n",
       "  </tbody>\n",
       "</table>\n",
       "</div>"
      ],
      "text/plain": [
       "     total_bill   tip      yhat\n",
       "19        16.97  3.50  2.741254\n",
       "173        7.25  5.15  1.642824\n",
       "119       12.43  1.80  2.228201\n",
       "29        21.70  4.30  3.275778\n",
       "238       32.83  1.17  4.533548"
      ]
     },
     "execution_count": 11,
     "metadata": {},
     "output_type": "execute_result"
    }
   ],
   "source": [
    "train.head()"
   ]
  },
  {
   "cell_type": "code",
   "execution_count": 12,
   "id": "7fd1b376",
   "metadata": {},
   "outputs": [
    {
     "data": {
      "image/png": "[encoded data removed]",
      "text/plain": [
       "<Figure size 432x288 with 1 Axes>"
      ]
     },
     "metadata": {
      "needs_background": "light"
     },
     "output_type": "display_data"
    }
   ],
   "source": [
    "plt.scatter(train.total_bill, train.tip)\n",
    "plt.axhline(baseline, ls=':', color='green')\n",
    "plt.plot(train.total_bill, train.yhat, color='red')\n",
    "plt.ylabel('tip')\n",
    "plt.xlabel('total bill')\n",
    "plt.show()"
   ]
  },
  {
   "cell_type": "code",
   "execution_count": 13,
   "id": "f89f31bd",
   "metadata": {},
   "outputs": [
    {
     "data": {
      "text/html": [
       "<div>\n",
       "<style scoped>\n",
       "    .dataframe tbody tr th:only-of-type {\n",
       "        vertical-align: middle;\n",
       "    }\n",
       "\n",
       "    .dataframe tbody tr th {\n",
       "        vertical-align: top;\n",
       "    }\n",
       "\n",
       "    .dataframe thead th {\n",
       "        text-align: right;\n",
       "    }\n",
       "</style>\n",
       "<table border=\"1\" class=\"dataframe\">\n",
       "  <thead>\n",
       "    <tr style=\"text-align: right;\">\n",
       "      <th></th>\n",
       "      <th>total_bill</th>\n",
       "      <th>tip</th>\n",
       "      <th>yhat</th>\n",
       "      <th>yhat_baseline</th>\n",
       "      <th>residual</th>\n",
       "      <th>residual_baseline</th>\n",
       "    </tr>\n",
       "  </thead>\n",
       "  <tbody>\n",
       "    <tr>\n",
       "      <th>19</th>\n",
       "      <td>16.97</td>\n",
       "      <td>3.50</td>\n",
       "      <td>2.741254</td>\n",
       "      <td>2.946985</td>\n",
       "      <td>-0.758746</td>\n",
       "      <td>-0.553015</td>\n",
       "    </tr>\n",
       "    <tr>\n",
       "      <th>173</th>\n",
       "      <td>7.25</td>\n",
       "      <td>5.15</td>\n",
       "      <td>1.642824</td>\n",
       "      <td>2.946985</td>\n",
       "      <td>-3.507176</td>\n",
       "      <td>-2.203015</td>\n",
       "    </tr>\n",
       "    <tr>\n",
       "      <th>119</th>\n",
       "      <td>12.43</td>\n",
       "      <td>1.80</td>\n",
       "      <td>2.228201</td>\n",
       "      <td>2.946985</td>\n",
       "      <td>0.428201</td>\n",
       "      <td>1.146985</td>\n",
       "    </tr>\n",
       "    <tr>\n",
       "      <th>29</th>\n",
       "      <td>21.70</td>\n",
       "      <td>4.30</td>\n",
       "      <td>3.275778</td>\n",
       "      <td>2.946985</td>\n",
       "      <td>-1.024222</td>\n",
       "      <td>-1.353015</td>\n",
       "    </tr>\n",
       "    <tr>\n",
       "      <th>238</th>\n",
       "      <td>32.83</td>\n",
       "      <td>1.17</td>\n",
       "      <td>4.533548</td>\n",
       "      <td>2.946985</td>\n",
       "      <td>3.363548</td>\n",
       "      <td>1.776985</td>\n",
       "    </tr>\n",
       "  </tbody>\n",
       "</table>\n",
       "</div>"
      ],
      "text/plain": [
       "     total_bill   tip      yhat  yhat_baseline  residual  residual_baseline\n",
       "19        16.97  3.50  2.741254       2.946985 -0.758746          -0.553015\n",
       "173        7.25  5.15  1.642824       2.946985 -3.507176          -2.203015\n",
       "119       12.43  1.80  2.228201       2.946985  0.428201           1.146985\n",
       "29        21.70  4.30  3.275778       2.946985 -1.024222          -1.353015\n",
       "238       32.83  1.17  4.533548       2.946985  3.363548           1.776985"
      ]
     },
     "execution_count": 13,
     "metadata": {},
     "output_type": "execute_result"
    }
   ],
   "source": [
    "train['yhat_baseline'] = baseline\n",
    "train['residual'] = train['yhat'] - train['tip']\n",
    "train['residual_baseline'] = train['yhat_baseline'] - train['tip']\n",
    "train.head()"
   ]
  },
  {
   "cell_type": "code",
   "execution_count": 14,
   "id": "ca5020e8",
   "metadata": {},
   "outputs": [
    {
     "data": {
      "image/png": "[encoded data removed]",
      "text/plain": [
       "<Figure size 864x432 with 2 Axes>"
      ]
     },
     "metadata": {
      "needs_background": "light"
     },
     "output_type": "display_data"
    }
   ],
   "source": [
    "plt.figure(figsize=(12, 6))\n",
    "\n",
    "plt.subplot(121)\n",
    "plt.scatter(train.total_bill, train.residual_baseline)\n",
    "plt.axhline(y = 0, ls = ':')\n",
    "plt.xlabel('Total Bil')\n",
    "plt.ylabel('Residual')\n",
    "plt.title('Baseline Residuals')\n",
    "\n",
    "plt.subplot(122)\n",
    "plt.scatter(train.total_bill, train.residual)\n",
    "plt.axhline(y = 0, ls = ':')\n",
    "plt.xlabel('Total Bill')\n",
    "plt.ylabel('Residual')\n",
    "plt.title('OLS model residuals')"
   ]
  },
  {
   "cell_type": "code",
   "execution_count": 15,
   "id": "16bc2958",
   "metadata": {},
   "outputs": [
    {
     "data": {
      "text/html": [
       "<div>\n",
       "<style scoped>\n",
       "    .dataframe tbody tr th:only-of-type {\n",
       "        vertical-align: middle;\n",
       "    }\n",
       "\n",
       "    .dataframe tbody tr th {\n",
       "        vertical-align: top;\n",
       "    }\n",
       "\n",
       "    .dataframe thead th {\n",
       "        text-align: right;\n",
       "    }\n",
       "</style>\n",
       "<table border=\"1\" class=\"dataframe\">\n",
       "  <thead>\n",
       "    <tr style=\"text-align: right;\">\n",
       "      <th></th>\n",
       "      <th>total_bill</th>\n",
       "      <th>tip</th>\n",
       "      <th>yhat</th>\n",
       "      <th>yhat_baseline</th>\n",
       "      <th>residual</th>\n",
       "      <th>residual_baseline</th>\n",
       "      <th>residual^2</th>\n",
       "      <th>residual_baseline^2</th>\n",
       "    </tr>\n",
       "  </thead>\n",
       "  <tbody>\n",
       "    <tr>\n",
       "      <th>19</th>\n",
       "      <td>16.97</td>\n",
       "      <td>3.50</td>\n",
       "      <td>2.741254</td>\n",
       "      <td>2.946985</td>\n",
       "      <td>-0.758746</td>\n",
       "      <td>-0.553015</td>\n",
       "      <td>0.575695</td>\n",
       "      <td>0.305825</td>\n",
       "    </tr>\n",
       "    <tr>\n",
       "      <th>173</th>\n",
       "      <td>7.25</td>\n",
       "      <td>5.15</td>\n",
       "      <td>1.642824</td>\n",
       "      <td>2.946985</td>\n",
       "      <td>-3.507176</td>\n",
       "      <td>-2.203015</td>\n",
       "      <td>12.300284</td>\n",
       "      <td>4.853274</td>\n",
       "    </tr>\n",
       "    <tr>\n",
       "      <th>119</th>\n",
       "      <td>12.43</td>\n",
       "      <td>1.80</td>\n",
       "      <td>2.228201</td>\n",
       "      <td>2.946985</td>\n",
       "      <td>0.428201</td>\n",
       "      <td>1.146985</td>\n",
       "      <td>0.183356</td>\n",
       "      <td>1.315575</td>\n",
       "    </tr>\n",
       "    <tr>\n",
       "      <th>29</th>\n",
       "      <td>21.70</td>\n",
       "      <td>4.30</td>\n",
       "      <td>3.275778</td>\n",
       "      <td>2.946985</td>\n",
       "      <td>-1.024222</td>\n",
       "      <td>-1.353015</td>\n",
       "      <td>1.049030</td>\n",
       "      <td>1.830649</td>\n",
       "    </tr>\n",
       "    <tr>\n",
       "      <th>238</th>\n",
       "      <td>32.83</td>\n",
       "      <td>1.17</td>\n",
       "      <td>4.533548</td>\n",
       "      <td>2.946985</td>\n",
       "      <td>3.363548</td>\n",
       "      <td>1.776985</td>\n",
       "      <td>11.313458</td>\n",
       "      <td>3.157677</td>\n",
       "    </tr>\n",
       "  </tbody>\n",
       "</table>\n",
       "</div>"
      ],
      "text/plain": [
       "     total_bill   tip      yhat  yhat_baseline  residual  residual_baseline  \\\n",
       "19        16.97  3.50  2.741254       2.946985 -0.758746          -0.553015   \n",
       "173        7.25  5.15  1.642824       2.946985 -3.507176          -2.203015   \n",
       "119       12.43  1.80  2.228201       2.946985  0.428201           1.146985   \n",
       "29        21.70  4.30  3.275778       2.946985 -1.024222          -1.353015   \n",
       "238       32.83  1.17  4.533548       2.946985  3.363548           1.776985   \n",
       "\n",
       "     residual^2  residual_baseline^2  \n",
       "19     0.575695             0.305825  \n",
       "173   12.300284             4.853274  \n",
       "119    0.183356             1.315575  \n",
       "29     1.049030             1.830649  \n",
       "238   11.313458             3.157677  "
      ]
     },
     "execution_count": 15,
     "metadata": {},
     "output_type": "execute_result"
    }
   ],
   "source": [
    "train['residual^2'] = train.residual**2\n",
    "train['residual_baseline^2'] = train.residual_baseline**2\n",
    "train.head()"
   ]
  },
  {
   "cell_type": "code",
   "execution_count": 16,
   "id": "0d0d0129",
   "metadata": {},
   "outputs": [
    {
     "name": "stdout",
     "output_type": "stream",
     "text": [
      "SSE Baseline = 286.4\n",
      "MSE baseline =  2.1\n",
      "RMSE baseline =  1.5\n"
     ]
    }
   ],
   "source": [
    "SSE_baseline = train['residual_baseline^2'].sum()\n",
    "MSE_baseline = SSE_baseline/len(train)\n",
    "RMSE_baseline =  sqrt(MSE_baseline)\n",
    "print(\"SSE Baseline =\", \"{:.1f}\".format(SSE_baseline))\n",
    "print(\"MSE baseline = \", \"{:.1f}\".format(MSE_baseline))\n",
    "print(\"RMSE baseline = \", \"{:.1f}\".format(RMSE_baseline))"
   ]
  },
  {
   "cell_type": "code",
   "execution_count": 11,
   "id": "877c970b",
   "metadata": {},
   "outputs": [
    {
     "name": "stdout",
     "output_type": "stream",
     "text": [
      "SSE = 153.5\n",
      "MSE =  1.1\n",
      "RMSE =  1.1\n",
      "TSS =  286.4\n",
      "ESS =  132.9\n"
     ]
    }
   ],
   "source": [
    "SSE = train['residual^2'].sum()\n",
    "MSE = SSE/len(train)\n",
    "RMSE = sqrt(MSE)\n",
    "TSS = train['residual_baseline^2'].sum()\n",
    "ESS = TSS - SSE\n",
    "print('SSE =', \"{:.1f}\".format(SSE))\n",
    "print(\"MSE = \", \"{:.1f}\".format(MSE))\n",
    "print(\"RMSE = \", \"{:.1f}\".format(RMSE))\n",
    "print(\"TSS = \", \"{:.1f}\".format(TSS))\n",
    "print(\"ESS = \", \"{:.1f}\".format(ESS))"
   ]
  },
  {
   "cell_type": "code",
   "execution_count": 13,
   "id": "e4cbc542",
   "metadata": {},
   "outputs": [
    {
     "data": {
      "text/plain": [
       "153.53663973018624"
      ]
     },
     "execution_count": 13,
     "metadata": {},
     "output_type": "execute_result"
    }
   ],
   "source": [
    "float(SSE)"
   ]
  },
  {
   "cell_type": "code",
   "execution_count": 18,
   "id": "399c0587",
   "metadata": {},
   "outputs": [
    {
     "name": "stdout",
     "output_type": "stream",
     "text": [
      "=============================\n",
      "Model Performance Evaluation:\n",
      "-----------------------------\n",
      "The model performs better than baseline\n"
     ]
    }
   ],
   "source": [
    "print('=============================')\n",
    "print('Model Performance Evaluation:')\n",
    "print('-----------------------------')\n",
    "if SSE < SSE_baseline:\n",
    "    print('The model performs better than baseline')\n",
    "else:\n",
    "    print('The model does not perform better than baseline')"
   ]
  },
  {
   "cell_type": "code",
   "execution_count": null,
   "id": "c633c603",
   "metadata": {},
   "outputs": [],
   "source": []
  },
  {
   "cell_type": "markdown",
   "id": "fd1b09ae",
   "metadata": {},
   "source": [
    "---"
   ]
  },
  {
   "cell_type": "markdown",
   "id": "ffe14842",
   "metadata": {},
   "source": [
    "### Test the functions from the evaluate.py file\n",
    "- Restart the Kernel\n",
    "\n",
    "- Run the imports cell at the top of the notebook\n",
    "\n",
    "- Run the acquire and split cells at the top of the notebook\n",
    "\n",
    "- Run from top to bottom starting here"
   ]
  },
  {
   "cell_type": "code",
   "execution_count": 4,
   "id": "64c3e01e",
   "metadata": {},
   "outputs": [
    {
     "data": {
      "text/html": [
       "<div>\n",
       "<style scoped>\n",
       "    .dataframe tbody tr th:only-of-type {\n",
       "        vertical-align: middle;\n",
       "    }\n",
       "\n",
       "    .dataframe tbody tr th {\n",
       "        vertical-align: top;\n",
       "    }\n",
       "\n",
       "    .dataframe thead th {\n",
       "        text-align: right;\n",
       "    }\n",
       "</style>\n",
       "<table border=\"1\" class=\"dataframe\">\n",
       "  <thead>\n",
       "    <tr style=\"text-align: right;\">\n",
       "      <th></th>\n",
       "      <th>total_bill</th>\n",
       "      <th>tip</th>\n",
       "      <th>yhat_baseline</th>\n",
       "      <th>yhat</th>\n",
       "      <th>residual</th>\n",
       "      <th>residual_baseline</th>\n",
       "      <th>residual^2</th>\n",
       "      <th>residual_baseline^2</th>\n",
       "    </tr>\n",
       "  </thead>\n",
       "  <tbody>\n",
       "    <tr>\n",
       "      <th>19</th>\n",
       "      <td>16.97</td>\n",
       "      <td>3.50</td>\n",
       "      <td>2.946985</td>\n",
       "      <td>2.741254</td>\n",
       "      <td>-0.758746</td>\n",
       "      <td>-0.553015</td>\n",
       "      <td>0.575695</td>\n",
       "      <td>0.305825</td>\n",
       "    </tr>\n",
       "    <tr>\n",
       "      <th>173</th>\n",
       "      <td>7.25</td>\n",
       "      <td>5.15</td>\n",
       "      <td>2.946985</td>\n",
       "      <td>1.642824</td>\n",
       "      <td>-3.507176</td>\n",
       "      <td>-2.203015</td>\n",
       "      <td>12.300284</td>\n",
       "      <td>4.853274</td>\n",
       "    </tr>\n",
       "    <tr>\n",
       "      <th>119</th>\n",
       "      <td>12.43</td>\n",
       "      <td>1.80</td>\n",
       "      <td>2.946985</td>\n",
       "      <td>2.228201</td>\n",
       "      <td>0.428201</td>\n",
       "      <td>1.146985</td>\n",
       "      <td>0.183356</td>\n",
       "      <td>1.315575</td>\n",
       "    </tr>\n",
       "    <tr>\n",
       "      <th>29</th>\n",
       "      <td>21.70</td>\n",
       "      <td>4.30</td>\n",
       "      <td>2.946985</td>\n",
       "      <td>3.275778</td>\n",
       "      <td>-1.024222</td>\n",
       "      <td>-1.353015</td>\n",
       "      <td>1.049030</td>\n",
       "      <td>1.830649</td>\n",
       "    </tr>\n",
       "    <tr>\n",
       "      <th>238</th>\n",
       "      <td>32.83</td>\n",
       "      <td>1.17</td>\n",
       "      <td>2.946985</td>\n",
       "      <td>4.533548</td>\n",
       "      <td>3.363548</td>\n",
       "      <td>1.776985</td>\n",
       "      <td>11.313458</td>\n",
       "      <td>3.157677</td>\n",
       "    </tr>\n",
       "  </tbody>\n",
       "</table>\n",
       "</div>"
      ],
      "text/plain": [
       "     total_bill   tip  yhat_baseline      yhat  residual  residual_baseline  \\\n",
       "19        16.97  3.50       2.946985  2.741254 -0.758746          -0.553015   \n",
       "173        7.25  5.15       2.946985  1.642824 -3.507176          -2.203015   \n",
       "119       12.43  1.80       2.946985  2.228201  0.428201           1.146985   \n",
       "29        21.70  4.30       2.946985  3.275778 -1.024222          -1.353015   \n",
       "238       32.83  1.17       2.946985  4.533548  3.363548           1.776985   \n",
       "\n",
       "     residual^2  residual_baseline^2  \n",
       "19     0.575695             0.305825  \n",
       "173   12.300284             4.853274  \n",
       "119    0.183356             1.315575  \n",
       "29     1.049030             1.830649  \n",
       "238   11.313458             3.157677  "
      ]
     },
     "execution_count": 4,
     "metadata": {},
     "output_type": "execute_result"
    }
   ],
   "source": [
    "#this function takes in the df = 'train', the x_column = 'total_bill', and the y_column = 'tip'\n",
    "train = lr_model_with_residuals(train, 'total_bill', 'tip')\n",
    "train.head()\n",
    "#this function separates the x and y columns from the original df then adds a baseline column('yhat_baseline'), \n",
    "#creates a linear regression model, makes predictions with the model and adds them in a new column('yhat'), \n",
    "#calculates the residuals for the baseline and the model and adds all the corresponding columns \n",
    "#with the calculated values and outputs the new df"
   ]
  },
  {
   "cell_type": "code",
   "execution_count": 5,
   "id": "35561ad2",
   "metadata": {},
   "outputs": [
    {
     "data": {
      "image/png": "[encoded data removed]",
      "text/plain": [
       "<Figure size 864x432 with 2 Axes>"
      ]
     },
     "metadata": {
      "needs_background": "light"
     },
     "output_type": "display_data"
    }
   ],
   "source": [
    "#\n",
    "plot_residuals(train, 'total_bill', 'residual_baseline', 'residual')"
   ]
  },
  {
   "cell_type": "code",
   "execution_count": 6,
   "id": "db787cc1",
   "metadata": {},
   "outputs": [
    {
     "name": "stdout",
     "output_type": "stream",
     "text": [
      "SSE: 153.5\n",
      "MSE: 1.1\n",
      "RMSE: 1.1\n",
      "TSS: 286.4\n",
      "ESS: 132.9\n"
     ]
    }
   ],
   "source": [
    "regression_errors(train, 'residual^2', 'residual_baseline^2')"
   ]
  },
  {
   "cell_type": "code",
   "execution_count": 7,
   "id": "1e1b4d86",
   "metadata": {},
   "outputs": [
    {
     "name": "stdout",
     "output_type": "stream",
     "text": [
      "SSE Baseline = 286.4\n",
      "MSE baseline =  2.1\n",
      "RMSE baseline =  1.5\n"
     ]
    }
   ],
   "source": [
    "baseline_mean_errors(train, 'residual_baseline^2')"
   ]
  },
  {
   "cell_type": "code",
   "execution_count": 8,
   "id": "98538de1",
   "metadata": {},
   "outputs": [
    {
     "name": "stdout",
     "output_type": "stream",
     "text": [
      "=============================\n",
      "Model Performance Evaluation:\n",
      "-----------------------------\n",
      "The model performs better than baseline\n"
     ]
    }
   ],
   "source": [
    "better_than_baseline(train, 'residual^2', 'residual_baseline^2')"
   ]
  },
  {
   "cell_type": "code",
   "execution_count": null,
   "id": "87025c6b",
   "metadata": {},
   "outputs": [],
   "source": []
  }
 ],
 "metadata": {
  "kernelspec": {
   "display_name": "Python 3 (ipykernel)",
   "language": "python",
   "name": "python3"
  },
  "language_info": {
   "codemirror_mode": {
    "name": "ipython",
    "version": 3
   },
   "file_extension": ".py",
   "mimetype": "text/x-python",
   "name": "python",
   "nbconvert_exporter": "python",
   "pygments_lexer": "ipython3",
   "version": "3.9.7"
  }
 },
 "nbformat": 4,
 "nbformat_minor": 5
}
