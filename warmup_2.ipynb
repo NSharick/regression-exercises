{
 "cells": [
  {
   "cell_type": "code",
   "execution_count": 1,
   "id": "4f95fefb-13eb-4017-a1ba-ce979d1e0da0",
   "metadata": {},
   "outputs": [],
   "source": [
    "import pandas as pd\n",
    "import matplotlib.pyplot as plt\n",
    "df = pd.read_csv('https://raw.githubusercontent.com/zgulde/tidytuesday/master/data/2022/2022-02-01/breed_traits.csv')"
   ]
  },
  {
   "cell_type": "markdown",
   "id": "5daad97e-3690-4d06-a295-2de4eb3a6e28",
   "metadata": {},
   "source": [
    "This dataset contains information on different dog breeds. Answer the following questions:\n",
    "\n",
    "- How many breeds have an energy level of 5? `35`\n",
    "- How many different coat types are there? `10`\n",
    "- What is the average drooling level of breeds with a long coat length? `1.483`\n",
    "- What is the barking level of Anatolian Shepherd Dogs? `3`\n",
    "- How many breeds have a smooth coat type, a short coat length, and a playfulness level of 3? `27`\n",
    "- What percentage of breeds fall into each value of adaptability level? Make a visualization like the one below showing this"
   ]
  },
  {
   "attachments": {
    "805baeb8-a81a-4f98-8aa5-7769c38791fb.png": {
     "image/png": "[encoded data removed]"
    }
   },
   "cell_type": "markdown",
   "id": "49a426a3-aba0-44de-8dff-0c05e36e6df9",
   "metadata": {},
   "source": [
    "![image.png](attachment:805baeb8-a81a-4f98-8aa5-7769c38791fb.png)"
   ]
  },
  {
   "cell_type": "code",
   "execution_count": 2,
   "id": "04967798",
   "metadata": {},
   "outputs": [
    {
     "data": {
      "text/html": [
       "<div>\n",
       "<style scoped>\n",
       "    .dataframe tbody tr th:only-of-type {\n",
       "        vertical-align: middle;\n",
       "    }\n",
       "\n",
       "    .dataframe tbody tr th {\n",
       "        vertical-align: top;\n",
       "    }\n",
       "\n",
       "    .dataframe thead th {\n",
       "        text-align: right;\n",
       "    }\n",
       "</style>\n",
       "<table border=\"1\" class=\"dataframe\">\n",
       "  <thead>\n",
       "    <tr style=\"text-align: right;\">\n",
       "      <th></th>\n",
       "      <th>Breed</th>\n",
       "      <th>Affectionate With Family</th>\n",
       "      <th>Good With Young Children</th>\n",
       "      <th>Good With Other Dogs</th>\n",
       "      <th>Shedding Level</th>\n",
       "      <th>Coat Grooming Frequency</th>\n",
       "      <th>Drooling Level</th>\n",
       "      <th>Coat Type</th>\n",
       "      <th>Coat Length</th>\n",
       "      <th>Openness To Strangers</th>\n",
       "      <th>Playfulness Level</th>\n",
       "      <th>Watchdog/Protective Nature</th>\n",
       "      <th>Adaptability Level</th>\n",
       "      <th>Trainability Level</th>\n",
       "      <th>Energy Level</th>\n",
       "      <th>Barking Level</th>\n",
       "      <th>Mental Stimulation Needs</th>\n",
       "    </tr>\n",
       "  </thead>\n",
       "  <tbody>\n",
       "    <tr>\n",
       "      <th>0</th>\n",
       "      <td>Retrievers (Labrador)</td>\n",
       "      <td>5</td>\n",
       "      <td>5</td>\n",
       "      <td>5</td>\n",
       "      <td>4</td>\n",
       "      <td>2</td>\n",
       "      <td>2</td>\n",
       "      <td>Double</td>\n",
       "      <td>Short</td>\n",
       "      <td>5</td>\n",
       "      <td>5</td>\n",
       "      <td>3</td>\n",
       "      <td>5</td>\n",
       "      <td>5</td>\n",
       "      <td>5</td>\n",
       "      <td>3</td>\n",
       "      <td>4</td>\n",
       "    </tr>\n",
       "    <tr>\n",
       "      <th>1</th>\n",
       "      <td>French Bulldogs</td>\n",
       "      <td>5</td>\n",
       "      <td>5</td>\n",
       "      <td>4</td>\n",
       "      <td>3</td>\n",
       "      <td>1</td>\n",
       "      <td>3</td>\n",
       "      <td>Smooth</td>\n",
       "      <td>Short</td>\n",
       "      <td>5</td>\n",
       "      <td>5</td>\n",
       "      <td>3</td>\n",
       "      <td>5</td>\n",
       "      <td>4</td>\n",
       "      <td>3</td>\n",
       "      <td>1</td>\n",
       "      <td>3</td>\n",
       "    </tr>\n",
       "    <tr>\n",
       "      <th>2</th>\n",
       "      <td>German Shepherd Dogs</td>\n",
       "      <td>5</td>\n",
       "      <td>5</td>\n",
       "      <td>3</td>\n",
       "      <td>4</td>\n",
       "      <td>2</td>\n",
       "      <td>2</td>\n",
       "      <td>Double</td>\n",
       "      <td>Medium</td>\n",
       "      <td>3</td>\n",
       "      <td>4</td>\n",
       "      <td>5</td>\n",
       "      <td>5</td>\n",
       "      <td>5</td>\n",
       "      <td>5</td>\n",
       "      <td>3</td>\n",
       "      <td>5</td>\n",
       "    </tr>\n",
       "    <tr>\n",
       "      <th>3</th>\n",
       "      <td>Retrievers (Golden)</td>\n",
       "      <td>5</td>\n",
       "      <td>5</td>\n",
       "      <td>5</td>\n",
       "      <td>4</td>\n",
       "      <td>2</td>\n",
       "      <td>2</td>\n",
       "      <td>Double</td>\n",
       "      <td>Medium</td>\n",
       "      <td>5</td>\n",
       "      <td>4</td>\n",
       "      <td>3</td>\n",
       "      <td>5</td>\n",
       "      <td>5</td>\n",
       "      <td>3</td>\n",
       "      <td>1</td>\n",
       "      <td>4</td>\n",
       "    </tr>\n",
       "    <tr>\n",
       "      <th>4</th>\n",
       "      <td>Bulldogs</td>\n",
       "      <td>4</td>\n",
       "      <td>3</td>\n",
       "      <td>3</td>\n",
       "      <td>3</td>\n",
       "      <td>3</td>\n",
       "      <td>3</td>\n",
       "      <td>Smooth</td>\n",
       "      <td>Short</td>\n",
       "      <td>4</td>\n",
       "      <td>4</td>\n",
       "      <td>3</td>\n",
       "      <td>3</td>\n",
       "      <td>4</td>\n",
       "      <td>3</td>\n",
       "      <td>2</td>\n",
       "      <td>3</td>\n",
       "    </tr>\n",
       "  </tbody>\n",
       "</table>\n",
       "</div>"
      ],
      "text/plain": [
       "                   Breed  Affectionate With Family  Good With Young Children  \\\n",
       "0  Retrievers (Labrador)                         5                         5   \n",
       "1        French Bulldogs                         5                         5   \n",
       "2   German Shepherd Dogs                         5                         5   \n",
       "3    Retrievers (Golden)                         5                         5   \n",
       "4               Bulldogs                         4                         3   \n",
       "\n",
       "   Good With Other Dogs  Shedding Level  Coat Grooming Frequency  \\\n",
       "0                     5               4                        2   \n",
       "1                     4               3                        1   \n",
       "2                     3               4                        2   \n",
       "3                     5               4                        2   \n",
       "4                     3               3                        3   \n",
       "\n",
       "   Drooling Level Coat Type Coat Length  Openness To Strangers  \\\n",
       "0               2    Double       Short                      5   \n",
       "1               3    Smooth       Short                      5   \n",
       "2               2    Double      Medium                      3   \n",
       "3               2    Double      Medium                      5   \n",
       "4               3    Smooth       Short                      4   \n",
       "\n",
       "   Playfulness Level  Watchdog/Protective Nature  Adaptability Level  \\\n",
       "0                  5                           3                   5   \n",
       "1                  5                           3                   5   \n",
       "2                  4                           5                   5   \n",
       "3                  4                           3                   5   \n",
       "4                  4                           3                   3   \n",
       "\n",
       "   Trainability Level  Energy Level  Barking Level  Mental Stimulation Needs  \n",
       "0                   5             5              3                         4  \n",
       "1                   4             3              1                         3  \n",
       "2                   5             5              3                         5  \n",
       "3                   5             3              1                         4  \n",
       "4                   4             3              2                         3  "
      ]
     },
     "execution_count": 2,
     "metadata": {},
     "output_type": "execute_result"
    }
   ],
   "source": [
    "df.head()"
   ]
  },
  {
   "cell_type": "code",
   "execution_count": 3,
   "id": "6ae5a331",
   "metadata": {},
   "outputs": [
    {
     "data": {
      "text/plain": [
       "3    81\n",
       "4    76\n",
       "5    35\n",
       "2     2\n",
       "0     1\n",
       "Name: Energy Level, dtype: int64"
      ]
     },
     "execution_count": 3,
     "metadata": {},
     "output_type": "execute_result"
    }
   ],
   "source": [
    "#1\n",
    "df['Energy Level'].value_counts()"
   ]
  },
  {
   "cell_type": "code",
   "execution_count": 4,
   "id": "afab782b",
   "metadata": {},
   "outputs": [
    {
     "data": {
      "text/plain": [
       "35"
      ]
     },
     "execution_count": 4,
     "metadata": {},
     "output_type": "execute_result"
    }
   ],
   "source": [
    "(df['Energy Level'] == 5).sum()"
   ]
  },
  {
   "cell_type": "code",
   "execution_count": 12,
   "id": "33160198",
   "metadata": {},
   "outputs": [
    {
     "data": {
      "text/plain": [
       "10"
      ]
     },
     "execution_count": 12,
     "metadata": {},
     "output_type": "execute_result"
    }
   ],
   "source": [
    "#2\n",
    "len(df['Coat Type'].unique())"
   ]
  },
  {
   "cell_type": "code",
   "execution_count": 13,
   "id": "959a2a8d",
   "metadata": {},
   "outputs": [
    {
     "data": {
      "text/plain": [
       "array(['Double', 'Smooth', 'Curly', 'Silky', 'Wavy', 'Wiry', 'Hairless',\n",
       "       'Rough', 'Corded', 'Plott\\xa0Hounds'], dtype=object)"
      ]
     },
     "execution_count": 13,
     "metadata": {},
     "output_type": "execute_result"
    }
   ],
   "source": [
    "df['Coat Type'].unique()"
   ]
  },
  {
   "cell_type": "code",
   "execution_count": 39,
   "id": "e4bc2b02",
   "metadata": {},
   "outputs": [
    {
     "data": {
      "text/plain": [
       "10"
      ]
     },
     "execution_count": 39,
     "metadata": {},
     "output_type": "execute_result"
    }
   ],
   "source": [
    "df['Coat Type'].nunique()"
   ]
  },
  {
   "cell_type": "code",
   "execution_count": 23,
   "id": "5a3e392c",
   "metadata": {},
   "outputs": [
    {
     "data": {
      "text/plain": [
       "1.4827586206896552"
      ]
     },
     "execution_count": 23,
     "metadata": {},
     "output_type": "execute_result"
    }
   ],
   "source": [
    "#3\n",
    "df2 = df[df['Coat Length'] == 'Long']\n",
    "df2['Drooling Level'].mean()"
   ]
  },
  {
   "cell_type": "code",
   "execution_count": 45,
   "id": "c1ad0abe",
   "metadata": {},
   "outputs": [
    {
     "data": {
      "text/plain": [
       "1.4827586206896552"
      ]
     },
     "execution_count": 45,
     "metadata": {},
     "output_type": "execute_result"
    }
   ],
   "source": [
    "df.loc[df['Coat Length'] == 'Long', 'Drooling Level'].mean()"
   ]
  },
  {
   "cell_type": "code",
   "execution_count": null,
   "id": "96c91e27",
   "metadata": {},
   "outputs": [],
   "source": []
  },
  {
   "cell_type": "code",
   "execution_count": 46,
   "id": "d2b3780b",
   "metadata": {},
   "outputs": [],
   "source": [
    "#list(df.Breed.unique())"
   ]
  },
  {
   "cell_type": "code",
   "execution_count": 42,
   "id": "f22daf1a",
   "metadata": {},
   "outputs": [
    {
     "data": {
      "text/plain": [
       "[3]"
      ]
     },
     "execution_count": 42,
     "metadata": {},
     "output_type": "execute_result"
    }
   ],
   "source": [
    "x = df[df.Breed == 'Anatolian\\xa0Shepherd\\xa0Dogs']\n",
    "list(x['Barking Level'])"
   ]
  },
  {
   "cell_type": "code",
   "execution_count": 43,
   "id": "ba06e131",
   "metadata": {},
   "outputs": [
    {
     "data": {
      "text/html": [
       "<div>\n",
       "<style scoped>\n",
       "    .dataframe tbody tr th:only-of-type {\n",
       "        vertical-align: middle;\n",
       "    }\n",
       "\n",
       "    .dataframe tbody tr th {\n",
       "        vertical-align: top;\n",
       "    }\n",
       "\n",
       "    .dataframe thead th {\n",
       "        text-align: right;\n",
       "    }\n",
       "</style>\n",
       "<table border=\"1\" class=\"dataframe\">\n",
       "  <thead>\n",
       "    <tr style=\"text-align: right;\">\n",
       "      <th></th>\n",
       "      <th>Breed</th>\n",
       "      <th>Barking Level</th>\n",
       "    </tr>\n",
       "  </thead>\n",
       "  <tbody>\n",
       "    <tr>\n",
       "      <th>84</th>\n",
       "      <td>Anatolian Shepherd Dogs</td>\n",
       "      <td>3</td>\n",
       "    </tr>\n",
       "  </tbody>\n",
       "</table>\n",
       "</div>"
      ],
      "text/plain": [
       "                      Breed  Barking Level\n",
       "84  Anatolian Shepherd Dogs              3"
      ]
     },
     "execution_count": 43,
     "metadata": {},
     "output_type": "execute_result"
    }
   ],
   "source": [
    "df.loc[df.Breed.str.startswith('Anatolian'), ['Breed', 'Barking Level']]"
   ]
  },
  {
   "cell_type": "code",
   "execution_count": 32,
   "id": "e156503c",
   "metadata": {},
   "outputs": [
    {
     "data": {
      "text/plain": [
       "27"
      ]
     },
     "execution_count": 32,
     "metadata": {},
     "output_type": "execute_result"
    }
   ],
   "source": [
    "#4\n",
    "y = df[df['Playfulness Level'] == 3]\n",
    "z = y[y['Coat Length'] == 'Short']\n",
    "(z['Coat Type'] == 'Smooth').sum()"
   ]
  },
  {
   "cell_type": "code",
   "execution_count": 35,
   "id": "b121271a",
   "metadata": {},
   "outputs": [],
   "source": [
    "import matplotlib.pyplot as plt"
   ]
  },
  {
   "cell_type": "code",
   "execution_count": 38,
   "id": "210bbc4f",
   "metadata": {},
   "outputs": [
    {
     "data": {
      "image/png": "[encoded data removed]",
      "text/plain": [
       "<Figure size 432x288 with 1 Axes>"
      ]
     },
     "metadata": {
      "needs_background": "light"
     },
     "output_type": "display_data"
    }
   ],
   "source": [
    "df['Shedding Level'].hist(align='left')\n",
    "plt.title('Shedding Level')\n",
    "plt.show()"
   ]
  },
  {
   "cell_type": "code",
   "execution_count": 50,
   "id": "bf311edf",
   "metadata": {},
   "outputs": [
    {
     "data": {
      "text/plain": [
       "0    0.005128\n",
       "1    0.138462\n",
       "2    0.210256\n",
       "3    0.558974\n",
       "4    0.082051\n",
       "5    0.005128\n",
       "Name: Shedding Level, dtype: float64"
      ]
     },
     "execution_count": 50,
     "metadata": {},
     "output_type": "execute_result"
    }
   ],
   "source": [
    "shedding_levels = df['Shedding Level'].value_counts().sort_index()\n",
    "shedding_levels / shedding_levels.sum()"
   ]
  },
  {
   "cell_type": "code",
   "execution_count": 51,
   "id": "b39aa2c1",
   "metadata": {},
   "outputs": [
    {
     "data": {
      "image/png": "[encoded data removed]",
      "text/plain": [
       "<Figure size 504x216 with 1 Axes>"
      ]
     },
     "metadata": {
      "needs_background": "light"
     },
     "output_type": "display_data"
    }
   ],
   "source": [
    "shedding_levels.plot.bar(\n",
    "    width=.9,\n",
    "    ec='black',\n",
    "    fc='white',\n",
    "    figsize=(7, 3),\n",
    "    title='Distribution of Shedding Levels',\n",
    "    ylabel='# of Breeds',\n",
    "    xlabel='Shedding Level',\n",
    ")\n",
    "plt.xticks(rotation=0)\n",
    "plt.show()"
   ]
  },
  {
   "cell_type": "code",
   "execution_count": null,
   "id": "905d2dda",
   "metadata": {},
   "outputs": [],
   "source": []
  }
 ],
 "metadata": {
  "kernelspec": {
   "display_name": "Python 3 (ipykernel)",
   "language": "python",
   "name": "python3"
  },
  "language_info": {
   "codemirror_mode": {
    "name": "ipython",
    "version": 3
   },
   "file_extension": ".py",
   "mimetype": "text/x-python",
   "name": "python",
   "nbconvert_exporter": "python",
   "pygments_lexer": "ipython3",
   "version": "3.9.7"
  }
 },
 "nbformat": 4,
 "nbformat_minor": 5
}
